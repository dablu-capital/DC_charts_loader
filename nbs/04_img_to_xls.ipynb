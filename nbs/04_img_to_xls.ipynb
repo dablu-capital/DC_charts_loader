{
 "cells": [
  {
   "cell_type": "code",
   "execution_count": 2,
   "id": "47f1663b",
   "metadata": {},
   "outputs": [],
   "source": [
    "from pathlib import Path\n",
    "import pandas as pd\n",
    "import sys\n",
    "\n",
    "ROOT_DIR = Path().cwd().parent\n",
    "\n",
    "if str(ROOT_DIR) not in sys.path:\n",
    "    sys.path.insert(0, str(ROOT_DIR))\n",
    "\n",
    "from src.config import config\n",
    "from src.models import ChartsDailyData\n",
    "from src.data import load_min_data"
   ]
  },
  {
   "cell_type": "code",
   "execution_count": 3,
   "id": "9220324a",
   "metadata": {},
   "outputs": [
    {
     "name": "stdout",
     "output_type": "stream",
     "text": [
      "Client ID: ydb6703f23b244c2 Client Secret: b2486c05116fdf0989b99b480d49582515dc5b2b\n"
     ]
    }
   ],
   "source": [
    "client_id = config.imgur.client_id\n",
    "client_secret = config.imgur.client_secret\n",
    "\n",
    "print(f\"Client ID: {client_id} Client Secret: {client_secret}\")"
   ]
  },
  {
   "cell_type": "code",
   "execution_count": 11,
   "id": "803de8b3",
   "metadata": {},
   "outputs": [
    {
     "ename": "UnexpectedImgurException",
     "evalue": "429: Imgur ERROR message: unknown Error",
     "output_type": "error",
     "traceback": [
      "\u001b[31m---------------------------------------------------------------------------\u001b[39m",
      "\u001b[31mUnexpectedImgurException\u001b[39m                  Traceback (most recent call last)",
      "\u001b[36mCell\u001b[39m\u001b[36m \u001b[39m\u001b[32mIn[11]\u001b[39m\u001b[32m, line 7\u001b[39m\n\u001b[32m      3\u001b[39m im = pyimgur.Imgur(client_id=client_id, client_secret=client_secret)\n\u001b[32m      5\u001b[39m path = \u001b[33m\"\u001b[39m\u001b[33mD:\u001b[39m\u001b[38;5;130;01m\\\\\u001b[39;00m\u001b[33mPython\u001b[39m\u001b[38;5;130;01m\\\\\u001b[39;00m\u001b[33mDC_charts_loader\u001b[39m\u001b[38;5;130;01m\\\\\u001b[39;00m\u001b[33mscreenshots\u001b[39m\u001b[38;5;130;01m\\\\\u001b[39;00m\u001b[33mIBG_2025-04-02_chart1_screenshot.png\u001b[39m\u001b[33m\"\u001b[39m\n\u001b[32m----> \u001b[39m\u001b[32m7\u001b[39m uploaded_image = \u001b[43mim\u001b[49m\u001b[43m.\u001b[49m\u001b[43mupload_image\u001b[49m\u001b[43m(\u001b[49m\u001b[43mpath\u001b[49m\u001b[43m,\u001b[49m\u001b[43m \u001b[49m\u001b[43mtitle\u001b[49m\u001b[43m=\u001b[49m\u001b[33;43m\"\u001b[39;49m\u001b[33;43mIBG Chart Screenshot\u001b[39;49m\u001b[33;43m\"\u001b[39;49m\u001b[43m)\u001b[49m\n\u001b[32m      8\u001b[39m \u001b[38;5;28mprint\u001b[39m(uploaded_image.title)\n\u001b[32m      9\u001b[39m \u001b[38;5;28mprint\u001b[39m(uploaded_image.link)\n",
      "\u001b[36mFile \u001b[39m\u001b[32mc:\\Users\\Lollo\\anaconda3\\envs\\base312\\Lib\\site-packages\\pyimgur\\__init__.py:677\u001b[39m, in \u001b[36mImgur.upload_image\u001b[39m\u001b[34m(self, path, url, title, description, album)\u001b[39m\n\u001b[32m    667\u001b[39m     \u001b[38;5;28;01mraise\u001b[39;00m InvalidParameterError(\u001b[33m\"\u001b[39m\u001b[33mEither path or url must be given.\u001b[39m\u001b[33m\"\u001b[39m)\n\u001b[32m    669\u001b[39m payload = {\n\u001b[32m    670\u001b[39m     \u001b[33m\"\u001b[39m\u001b[33malbum_id\u001b[39m\u001b[33m\"\u001b[39m: album,\n\u001b[32m    671\u001b[39m     \u001b[33m\"\u001b[39m\u001b[33mimage_path\u001b[39m\u001b[33m\"\u001b[39m: path,\n\u001b[32m   (...)\u001b[39m\u001b[32m    674\u001b[39m     \u001b[33m\"\u001b[39m\u001b[33mdescription\u001b[39m\u001b[33m\"\u001b[39m: description,\n\u001b[32m    675\u001b[39m }\n\u001b[32m--> \u001b[39m\u001b[32m677\u001b[39m resp = \u001b[38;5;28;43mself\u001b[39;49m\u001b[43m.\u001b[49m\u001b[43msend_request\u001b[49m\u001b[43m(\u001b[49m\n\u001b[32m    678\u001b[39m \u001b[43m    \u001b[49m\u001b[38;5;28;43mself\u001b[39;49m\u001b[43m.\u001b[49m\u001b[43mbase_url\u001b[49m\u001b[43m \u001b[49m\u001b[43m+\u001b[49m\u001b[43m \u001b[49m\u001b[33;43m\"\u001b[39;49m\u001b[33;43m/3/image\u001b[39;49m\u001b[33;43m\"\u001b[39;49m\u001b[43m,\u001b[49m\u001b[43m \u001b[49m\u001b[43mparams\u001b[49m\u001b[43m=\u001b[49m\u001b[43mpayload\u001b[49m\u001b[43m,\u001b[49m\u001b[43m \u001b[49m\u001b[43mmethod\u001b[49m\u001b[43m=\u001b[49m\u001b[33;43m\"\u001b[39;49m\u001b[33;43mPOST\u001b[39;49m\u001b[33;43m\"\u001b[39;49m\n\u001b[32m    679\u001b[39m \u001b[43m\u001b[49m\u001b[43m)\u001b[49m\n\u001b[32m    681\u001b[39m resp[\u001b[33m\"\u001b[39m\u001b[33mtitle\u001b[39m\u001b[33m\"\u001b[39m] = title\n\u001b[32m    682\u001b[39m resp[\u001b[33m\"\u001b[39m\u001b[33mdescription\u001b[39m\u001b[33m\"\u001b[39m] = description\n",
      "\u001b[36mFile \u001b[39m\u001b[32mc:\\Users\\Lollo\\anaconda3\\envs\\base312\\Lib\\site-packages\\pyimgur\\__init__.py:591\u001b[39m, in \u001b[36mImgur.send_request\u001b[39m\u001b[34m(self, url, needs_auth, force_client_auth, **kwargs)\u001b[39m\n\u001b[32m    589\u001b[39m \u001b[38;5;28;01mwhile\u001b[39;00m \u001b[38;5;28;01mTrue\u001b[39;00m:\n\u001b[32m    590\u001b[39m     \u001b[38;5;28;01mtry\u001b[39;00m:\n\u001b[32m--> \u001b[39m\u001b[32m591\u001b[39m         new_content, ratelimit_info = \u001b[43mrequest\u001b[49m\u001b[43m.\u001b[49m\u001b[43msend_request\u001b[49m\u001b[43m(\u001b[49m\n\u001b[32m    592\u001b[39m \u001b[43m            \u001b[49m\u001b[43murl\u001b[49m\u001b[43m,\u001b[49m\n\u001b[32m    593\u001b[39m \u001b[43m            \u001b[49m\u001b[43mmethod\u001b[49m\u001b[43m=\u001b[49m\u001b[43mkwargs\u001b[49m\u001b[43m.\u001b[49m\u001b[43mget\u001b[49m\u001b[43m(\u001b[49m\u001b[33;43m\"\u001b[39;49m\u001b[33;43mmethod\u001b[39;49m\u001b[33;43m\"\u001b[39;49m\u001b[43m,\u001b[49m\u001b[43m \u001b[49m\u001b[33;43m\"\u001b[39;49m\u001b[33;43mGET\u001b[39;49m\u001b[33;43m\"\u001b[39;49m\u001b[43m)\u001b[49m\u001b[43m,\u001b[49m\n\u001b[32m    594\u001b[39m \u001b[43m            \u001b[49m\u001b[43mcontent_to_send\u001b[49m\u001b[43m=\u001b[49m\u001b[43mcontent_to_send\u001b[49m\u001b[43m,\u001b[49m\n\u001b[32m    595\u001b[39m \u001b[43m            \u001b[49m\u001b[43mheaders\u001b[49m\u001b[43m=\u001b[49m\u001b[43mauthentication\u001b[49m\u001b[43m,\u001b[49m\n\u001b[32m    596\u001b[39m \u001b[43m        \u001b[49m\u001b[43m)\u001b[49m\n\u001b[32m    598\u001b[39m     \u001b[38;5;28;01mexcept\u001b[39;00m UnexpectedImgurException \u001b[38;5;28;01mas\u001b[39;00m e:\n\u001b[32m    599\u001b[39m         \u001b[38;5;66;03m# If Imgur raises an exception due to the access token being\u001b[39;00m\n\u001b[32m    600\u001b[39m         \u001b[38;5;66;03m# invalid/expired. Get a new access token and try again.\u001b[39;00m\n\u001b[32m   (...)\u001b[39m\u001b[32m    604\u001b[39m         \u001b[38;5;66;03m# Possibly this is due to a bug in how Imgur handles old or\u001b[39;00m\n\u001b[32m    605\u001b[39m         \u001b[38;5;66;03m# malformed access tokens.\u001b[39;00m\n\u001b[32m    606\u001b[39m         \u001b[38;5;28;01mif\u001b[39;00m e.response.status_code \u001b[38;5;129;01mnot\u001b[39;00m \u001b[38;5;129;01min\u001b[39;00m (\u001b[32m401\u001b[39m, \u001b[32m429\u001b[39m):\n",
      "\u001b[36mFile \u001b[39m\u001b[32mc:\\Users\\Lollo\\anaconda3\\envs\\base312\\Lib\\site-packages\\pyimgur\\request.py:78\u001b[39m, in \u001b[36msend_request\u001b[39m\u001b[34m(url, content_to_send, headers, method)\u001b[39m\n\u001b[32m     73\u001b[39m \u001b[38;5;28;01mif\u001b[39;00m \u001b[38;5;129;01mnot\u001b[39;00m response.ok:\n\u001b[32m     74\u001b[39m     error_msg = (\n\u001b[32m     75\u001b[39m         \u001b[33mf\u001b[39m\u001b[33m\"\u001b[39m\u001b[38;5;132;01m{\u001b[39;00mresponse.status_code\u001b[38;5;132;01m}\u001b[39;00m\u001b[33m: Imgur ERROR message: \u001b[39m\u001b[33m\"\u001b[39m\n\u001b[32m     76\u001b[39m         + \u001b[33mf\u001b[39m\u001b[33m\"\u001b[39m\u001b[38;5;132;01m{\u001b[39;00mcontent.get(\u001b[33m'\u001b[39m\u001b[33merror\u001b[39m\u001b[33m'\u001b[39m,\u001b[38;5;250m \u001b[39m\u001b[33m'\u001b[39m\u001b[33munknown Error\u001b[39m\u001b[33m'\u001b[39m)\u001b[38;5;132;01m}\u001b[39;00m\u001b[33m\"\u001b[39m\n\u001b[32m     77\u001b[39m     )\n\u001b[32m---> \u001b[39m\u001b[32m78\u001b[39m     \u001b[38;5;28;01mraise\u001b[39;00m UnexpectedImgurException(error_msg, response=response)\n\u001b[32m     80\u001b[39m ratelimit_info = \u001b[38;5;28mdict\u001b[39m(\n\u001b[32m     81\u001b[39m     (k, \u001b[38;5;28mint\u001b[39m(v))\n\u001b[32m     82\u001b[39m     \u001b[38;5;28;01mfor\u001b[39;00m (k, v) \u001b[38;5;129;01min\u001b[39;00m response.headers.items()\n\u001b[32m     83\u001b[39m     \u001b[38;5;28;01mif\u001b[39;00m k.startswith(\u001b[33m\"\u001b[39m\u001b[33mx-ratelimit\u001b[39m\u001b[33m\"\u001b[39m)\n\u001b[32m     84\u001b[39m )\n\u001b[32m     86\u001b[39m \u001b[38;5;28;01mreturn\u001b[39;00m content, ratelimit_info\n",
      "\u001b[31mUnexpectedImgurException\u001b[39m: 429: Imgur ERROR message: unknown Error"
     ]
    }
   ],
   "source": [
    "import pyimgur\n",
    "\n",
    "im = pyimgur.Imgur(client_id=client_id, client_secret=client_secret)\n",
    "\n",
    "path = \"D:\\\\Python\\\\DC_charts_loader\\\\screenshots\\\\IBG_2025-04-02_chart1_screenshot.png\"\n",
    "\n",
    "uploaded_image = im.upload_image(path, title=\"IBG Chart Screenshot\")\n",
    "print(uploaded_image.title)\n",
    "print(uploaded_image.link)\n",
    "print(uploaded_image.size)\n",
    "print(uploaded_image.type)\n"
   ]
  }
 ],
 "metadata": {
  "kernelspec": {
   "display_name": "base312",
   "language": "python",
   "name": "python3"
  },
  "language_info": {
   "codemirror_mode": {
    "name": "ipython",
    "version": 3
   },
   "file_extension": ".py",
   "mimetype": "text/x-python",
   "name": "python",
   "nbconvert_exporter": "python",
   "pygments_lexer": "ipython3",
   "version": "3.12.3"
  }
 },
 "nbformat": 4,
 "nbformat_minor": 5
}
