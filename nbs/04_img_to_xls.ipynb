{
 "cells": [
  {
   "cell_type": "code",
   "execution_count": null,
   "id": "47f1663b",
   "metadata": {},
   "outputs": [],
   "source": [
    "from pathlib import Path\n",
    "import pandas as pd\n",
    "import sys\n",
    "\n",
    "ROOT_DIR = Path().cwd().parent\n",
    "\n",
    "if str(ROOT_DIR) not in sys.path:\n",
    "    sys.path.insert(0, str(ROOT_DIR))\n",
    "\n",
    "from src.config import config\n",
    "import src.imgur_api as imgur_api"
   ]
  },
  {
   "cell_type": "code",
   "execution_count": 5,
   "id": "9220324a",
   "metadata": {},
   "outputs": [
    {
     "name": "stdout",
     "output_type": "stream",
     "text": [
      "Client ID: bd6082a1caebe5b Client Secret: 9352843ef64b7018a1c8ee7e9daa3b9fc7b63a6b\n"
     ]
    }
   ],
   "source": [
    "client_id = config.imgur.client_id\n",
    "client_secret = config.imgur.client_secret\n",
    "\n",
    "print(f\"Client ID: {client_id} Client Secret: {client_secret}\")"
   ]
  },
  {
   "cell_type": "code",
   "execution_count": 4,
   "id": "846468a1",
   "metadata": {},
   "outputs": [
    {
     "name": "stdout",
     "output_type": "stream",
     "text": [
      "Ssshhhh\n",
      "https://i.imgur.com/5JTvLlM.gif\n"
     ]
    }
   ],
   "source": [
    "import pyimgur\n",
    "\n",
    "refresh_token = \"REFRESH_TOKEN\"\n",
    "\n",
    "im = pyimgur.Imgur(client_id=client_id, client_secret=client_secret)\n",
    "image = im.get_image('5JTvLlM')\n",
    "\n",
    "print(image.title) # Ssshhhh\n",
    "print(image.link) # https://i.imgur.com/5JTvLlM.gif"
   ]
  },
  {
   "cell_type": "code",
   "execution_count": 6,
   "id": "712f6ce6",
   "metadata": {},
   "outputs": [
    {
     "name": "stdout",
     "output_type": "stream",
     "text": [
      "Go to the following url to authenticate with your app\n",
      "https://api.imgur.com/oauth2/authorize?client_id=bd6082a1caebe5b&response_type=pin&state=\n"
     ]
    }
   ],
   "source": [
    "auth_url = im.authorization_url(\"pin\")\n",
    "print(\"Go to the following url to authenticate with your app\")\n",
    "print(auth_url)\n",
    "\n",
    "pin = input(\"What is the pin? \")\n",
    "access_token, refresh_token = im.exchange_pin(pin)"
   ]
  },
  {
   "cell_type": "code",
   "execution_count": 7,
   "id": "fb6e6a71",
   "metadata": {},
   "outputs": [
    {
     "name": "stdout",
     "output_type": "stream",
     "text": [
      "Ssshhhh\n",
      "https://i.imgur.com/5JTvLlM.gif\n"
     ]
    }
   ],
   "source": [
    "#authenticated user\n",
    "im = pyimgur.Imgur(client_id=client_id, client_secret=client_secret, refresh_token=refresh_token)\n",
    "image = im.get_image('5JTvLlM')\n",
    "\n",
    "print(image.title) # Ssshhhh\n",
    "print(image.link) # https://i.imgur.com/5JTvLlM.gif"
   ]
  },
  {
   "cell_type": "code",
   "execution_count": 10,
   "id": "ffc2be65",
   "metadata": {},
   "outputs": [
    {
     "name": "stdout",
     "output_type": "stream",
     "text": [
      "IBG_2025-04-02_chart1_screenshot\n",
      "https://i.imgur.com/QxV3J6d.png\n",
      "20489\n",
      "image/png\n"
     ]
    }
   ],
   "source": [
    "img_path = ROOT_DIR / \"screenshots\" / \"IBG_2025-04-02_chart1_screenshot.png\"\n",
    "uploaded_image = im.upload_image(img_path, title=\"IBG_2025-04-02_chart1_screenshot\")\n",
    "print(uploaded_image.title)\n",
    "print(uploaded_image.link)\n",
    "print(uploaded_image.size)\n",
    "print(uploaded_image.type)"
   ]
  },
  {
   "cell_type": "code",
   "execution_count": 11,
   "id": "fc7ad9b8",
   "metadata": {},
   "outputs": [
    {
     "data": {
      "text/plain": [
       "'IBG_2025-04-02_chart1_screenshot'"
      ]
     },
     "execution_count": 11,
     "metadata": {},
     "output_type": "execute_result"
    }
   ],
   "source": [
    "img_path.stem"
   ]
  },
  {
   "cell_type": "code",
   "execution_count": null,
   "id": "dd2e4799",
   "metadata": {},
   "outputs": [
    {
     "name": "stdout",
     "output_type": "stream",
     "text": [
      "TEST PROJECT_IBG_2025-04-02_chart2_screenshot\n",
      "https://i.imgur.com/Bw2Qv8A.png\n",
      "20489\n",
      "image/png\n"
     ]
    }
   ],
   "source": [
    "\n",
    "\n",
    "img_path = ROOT_DIR / \"screenshots\" / \"IBG_2025-04-02_chart2_screenshot.png\"\n",
    "uploaded_image = upload_image(img_path, project = \"TEST PROJECT\")\n",
    "print(uploaded_image.title)\n",
    "print(uploaded_image.link)\n",
    "print(uploaded_image.size)\n",
    "print(uploaded_image.type)"
   ]
  },
  {
   "cell_type": "code",
   "execution_count": null,
   "id": "26fd8bc1",
   "metadata": {},
   "outputs": [
    {
     "name": "stdout",
     "output_type": "stream",
     "text": [
      "[WindowsPath('d:/Python/DC_charts_loader/screenshots/IBG_2025-04-02_chart1_screenshot.png'), WindowsPath('d:/Python/DC_charts_loader/screenshots/IBG_2025-04-02_chart2_screenshot.png'), WindowsPath('d:/Python/DC_charts_loader/screenshots/TIVC_2025-04-03_screenshot.png')]\n"
     ]
    }
   ],
   "source": [
    "screenshot_folder = ROOT_DIR / \"screenshots\"\n",
    "screenshot_paths = list(screenshot_folder.glob(\"*.png\"))\n",
    "print(screenshot_paths)\n",
    "\n",
    "def upload_screenshots(screenshot_folder: Path, project: Optional[str] = None, im: Optional[pyimgur.Imgur]=None, refresh_token: Optional[str] = None) -> list:\n",
    "    \"\"\"\n",
    "    Uploads all screenshots in the given folder to Imgur and returns a list of uploaded images.\n",
    "    \"\"\"\n",
    "    if im is None:\n",
    "        client_id = config.imgur.client_id\n",
    "        client_secret = config.imgur.client_secret\n",
    "        im = pyimgur.Imgur(client_id=client_id, client_secret=client_secret, refresh_token=refresh_token)\n",
    "\n",
    "    uploaded_images = []\n",
    "    for screenshot_path in screenshot_folder.glob(\"*\"):\n",
    "        uploaded_image = upload_image(screenshot_path, project, im)\n",
    "        uploaded_images.append(uploaded_image)\n",
    "    \n",
    "    return uploaded_images"
   ]
  },
  {
   "cell_type": "code",
   "execution_count": null,
   "id": "107aaa64",
   "metadata": {},
   "outputs": [],
   "source": [
    "#add login path\n",
    "def auth_request(client_id: str, client_secret: str) -> pyimgur.Imgur:\n",
    "    \"\"\"\n",
    "    requests authorization token\n",
    "    \"\"\"\n",
    "    im = pyimgur.Imgur(client_id=client_id, client_secret=client_secret)\n",
    "    auth_url = im.authorization_url(\"pin\")\n",
    "    print(\"Go to the following url to authenticate with your app\")\n",
    "    print(auth_url)\n",
    "\n",
    "    pin = input(\"What is the pin? \")\n",
    "    access_token, refresh_token = im.exchange_pin(pin)\n",
    "    \n",
    "    return pyimgur.Imgur(client_id=client_id, client_secret=client_secret, refresh_token=refresh_token)"
   ]
  },
  {
   "cell_type": "code",
   "execution_count": null,
   "id": "13b31328",
   "metadata": {},
   "outputs": [],
   "source": [
    "import shutil\n",
    "\n",
    "def create_project_folder(screenshot_folder: Path, project_name: str) -> Path:\n",
    "    \"\"\"\n",
    "    Creates a new project folder in the screenshot folder.\n",
    "    If a folder with the same name exists, it appends an incrementing number to the name.\n",
    "    \"\"\"\n",
    "    project_path = screenshot_folder / project_name\n",
    "\n",
    "    # If folder exists, rename it by adding \"_1\", \"_2\", etc.\n",
    "    i = 1\n",
    "    while project_path.exists():\n",
    "        project_path = screenshot_folder / f\"{project_name}_{i}\"\n",
    "        i += 1\n",
    "\n",
    "    # Create the new project folder\n",
    "    project_path.mkdir(exist_ok=True)\n",
    "    \n",
    "    return project_path\n",
    "\n",
    "# screenshot_paths\n",
    "screenshot_folder = ROOT_DIR / \"screenshots\"\n",
    "screenshot_paths = list(screenshot_folder.glob(\"*.png\"))\n",
    "project_name = \"test_project\"\n",
    "project_path = create_project_folder(screenshot_folder, project_name)\n",
    "\n",
    "# Move all screenshots to the new project folder\n",
    "for path in screenshot_paths:\n",
    "    shutil.move(str(path), project_path / path.name)"
   ]
  },
  {
   "cell_type": "code",
   "execution_count": 8,
   "id": "2aaec65f",
   "metadata": {},
   "outputs": [
    {
     "name": "stdout",
     "output_type": "stream",
     "text": [
      "Go to the following url to authenticate with your app\n",
      "https://api.imgur.com/oauth2/authorize?client_id=bd6082a1caebe5b&response_type=pin&state=\n"
     ]
    }
   ],
   "source": [
    "im = imgur_api.auth_request(client_id, client_secret)"
   ]
  },
  {
   "cell_type": "code",
   "execution_count": 10,
   "id": "c5de4be4",
   "metadata": {},
   "outputs": [
    {
     "name": "stdout",
     "output_type": "stream",
     "text": [
      "Title: dc_1_BLUE_2025-02-21_chart1_screenshot, Link: https://i.imgur.com/xqWuRQ7.png, Size: 20608, Type: image/png\n",
      "Title: dc_1_BLUE_2025-02-21_chart2_screenshot, Link: https://i.imgur.com/b1qgfhY.png, Size: 13250, Type: image/png\n",
      "Title: dc_1_NVVE_2025-02-28_chart1_screenshot, Link: https://i.imgur.com/LHl0yNq.png, Size: 21051, Type: image/png\n",
      "Title: dc_1_NVVE_2025-02-28_chart2_screenshot, Link: https://i.imgur.com/Vfb8Yys.png, Size: 16956, Type: image/png\n",
      "Title: dc_1_ZKIN_2025-05-08_chart1_screenshot, Link: https://i.imgur.com/flHGN6x.png, Size: 22259, Type: image/png\n",
      "Title: dc_1_ZKIN_2025-05-08_chart2_screenshot, Link: https://i.imgur.com/nK4Yh0z.png, Size: 17512, Type: image/png\n"
     ]
    }
   ],
   "source": [
    "project_name = \"dc_1\"\n",
    "img_list = imgur_api.upload_screenshots(screenshots_path=screenshots_path, project_name=project_name, im=im)\n",
    "for img in img_list:\n",
    "    print(f\"Title: {img.title}, Link: {img.link}, Size: {img.size}, Type: {img.type}\")\n",
    "imgur_api.move_screenshots(screenshots_path=screenshots_path, project_name=project_name)"
   ]
  },
  {
   "cell_type": "code",
   "execution_count": 23,
   "id": "8a76438c",
   "metadata": {},
   "outputs": [],
   "source": [
    "file_list = list((screenshots_path / project_name ).glob(\"*.png\"))\n",
    "import pandas as pd\n",
    "# file_list[0].stem\n",
    "\n",
    "# ticker_list = [file.stem.split(\"_\")[0] for file in file_list]\n",
    "# date_list = [file.stem.split(\"_\")[1] for file in file_list]\n",
    "# link_list = [img.link for img in img_list]\n",
    "\n",
    "\n",
    "# df = pd.DataFrame({\n",
    "#     \"ticker\": ticker_list,\n",
    "#     \"date\": date_list,\n",
    "#     \"link\": link_list\n",
    "# })\n",
    "# df.to_excel(screenshots_path / project_name / f\"{project_name}_screenshots.xlsx\", index=False)\n",
    "\n",
    "def make_excel(file_list: list, img_list: list, project_path: Path) -> None:\n",
    "    \"\"\"\n",
    "    Creates an Excel file with the screenshot information.\n",
    "    \"\"\"\n",
    "    ticker_list = [file.stem.split(\"_\")[0] for file in file_list]\n",
    "    date_list = [file.stem.split(\"_\")[1] for file in file_list]\n",
    "    link_list = [img.link for img in img_list]\n",
    "\n",
    "    df = pd.DataFrame({\n",
    "        \"ticker\": ticker_list,\n",
    "        \"date\": date_list,\n",
    "        \"link\": link_list\n",
    "    })\n",
    "    \n",
    "    df.to_excel(project_path / f\"{project_name}_screenshots.xlsx\", index=False)\n",
    "make_excel(file_list, img_list, screenshots_path / project_name)"
   ]
  },
  {
   "cell_type": "code",
   "execution_count": 25,
   "id": "ca0cf00b",
   "metadata": {},
   "outputs": [
    {
     "data": {
      "text/plain": [
       "'eee62d0adb08e1929bb80b1497c9024bcacbd492'"
      ]
     },
     "execution_count": 25,
     "metadata": {},
     "output_type": "execute_result"
    }
   ],
   "source": [
    "im.refresh_access_token()"
   ]
  },
  {
   "cell_type": "code",
   "execution_count": null,
   "id": "c775d313",
   "metadata": {},
   "outputs": [],
   "source": [
    "pyimgur.Imgur(client_id=\"asfsafs\", client_secret=client_secret)"
   ]
  }
 ],
 "metadata": {
  "kernelspec": {
   "display_name": "base312",
   "language": "python",
   "name": "python3"
  },
  "language_info": {
   "codemirror_mode": {
    "name": "ipython",
    "version": 3
   },
   "file_extension": ".py",
   "mimetype": "text/x-python",
   "name": "python",
   "nbconvert_exporter": "python",
   "pygments_lexer": "ipython3",
   "version": "3.12.3"
  }
 },
 "nbformat": 4,
 "nbformat_minor": 5
}
